{
 "cells": [
  {
   "cell_type": "code",
   "execution_count": null,
   "metadata": {},
   "outputs": [],
   "source": []
  },
  {
   "cell_type": "markdown",
   "metadata": {},
   "source": [
    "### 1.0.1 Imports"
   ]
  },
  {
   "cell_type": "code",
   "execution_count": 1,
   "metadata": {},
   "outputs": [
    {
     "data": {
      "text/html": [
       "        <script type=\"text/javascript\">\n",
       "        window.PlotlyConfig = {MathJaxConfig: 'local'};\n",
       "        if (window.MathJax) {MathJax.Hub.Config({SVG: {font: \"STIX-Web\"}});}\n",
       "        if (typeof require !== 'undefined') {\n",
       "        require.undef(\"plotly\");\n",
       "        requirejs.config({\n",
       "            paths: {\n",
       "                'plotly': ['https://cdn.plot.ly/plotly-latest.min']\n",
       "            }\n",
       "        });\n",
       "        require(['plotly'], function(Plotly) {\n",
       "            window._Plotly = Plotly;\n",
       "        });\n",
       "        }\n",
       "        </script>\n",
       "        "
      ]
     },
     "metadata": {},
     "output_type": "display_data"
    }
   ],
   "source": [
    "import matplotlib.pyplot as plt\n",
    "import chart_studio.plotly as py\n",
    "import plotly.graph_objs as go\n",
    "from plotly.offline import download_plotlyjs,init_notebook_mode,plot,iplot\n",
    "init_notebook_mode(connected=True)\n",
    "import seaborn as sns \n",
    "import numpy as np\n",
    "import pandas as pd\n",
    "import numpy as np\n",
    "import random as rnd\n",
    "from sklearn.metrics import confusion_matrix\n",
    "import seaborn as sns\n",
    "import matplotlib.gridspec as gridspec\n",
    "from sklearn.preprocessing import StandardScaler\n",
    "from numpy import genfromtxt\n",
    "from scipy.stats import multivariate_normal\n",
    "from sklearn.metrics import f1_score\n",
    "from sklearn.metrics import recall_score , average_precision_score\n",
    "from sklearn.metrics import precision_score, precision_recall_curve\n",
    "%matplotlib inline"
   ]
  },
  {
   "cell_type": "markdown",
   "metadata": {},
   "source": [
    "## 1.1 Data"
   ]
  },
  {
   "cell_type": "code",
   "execution_count": 5,
   "metadata": {},
   "outputs": [
    {
     "data": {
      "text/plain": [
       "(2005187, 21)"
      ]
     },
     "execution_count": 5,
     "metadata": {},
     "output_type": "execute_result"
    }
   ],
   "source": [
    "rate_df = pd.read_csv('data/Rate_PUF.csv')\n",
    "rate_df.fillna(np.nan, inplace = True)\n",
    "rate_df.shape"
   ]
  },
  {
   "cell_type": "code",
   "execution_count": 4,
   "metadata": {},
   "outputs": [
    {
     "data": {
      "text/html": [
       "<div>\n",
       "<style scoped>\n",
       "    .dataframe tbody tr th:only-of-type {\n",
       "        vertical-align: middle;\n",
       "    }\n",
       "\n",
       "    .dataframe tbody tr th {\n",
       "        vertical-align: top;\n",
       "    }\n",
       "\n",
       "    .dataframe thead th {\n",
       "        text-align: right;\n",
       "    }\n",
       "</style>\n",
       "<table border=\"1\" class=\"dataframe\">\n",
       "  <thead>\n",
       "    <tr style=\"text-align: right;\">\n",
       "      <th></th>\n",
       "      <th>BusinessYear</th>\n",
       "      <th>StateCode</th>\n",
       "      <th>IssuerId</th>\n",
       "      <th>SourceName</th>\n",
       "      <th>ImportDate</th>\n",
       "      <th>FederalTIN</th>\n",
       "      <th>RateEffectiveDate</th>\n",
       "      <th>RateExpirationDate</th>\n",
       "      <th>PlanId</th>\n",
       "      <th>RatingAreaId</th>\n",
       "      <th>...</th>\n",
       "      <th>Age</th>\n",
       "      <th>IndividualRate</th>\n",
       "      <th>IndividualTobaccoRate</th>\n",
       "      <th>Couple</th>\n",
       "      <th>PrimarySubscriberAndOneDependent</th>\n",
       "      <th>PrimarySubscriberAndTwoDependents</th>\n",
       "      <th>PrimarySubscriberAndThreeOrMoreDependents</th>\n",
       "      <th>CoupleAndOneDependent</th>\n",
       "      <th>CoupleAndTwoDependents</th>\n",
       "      <th>CoupleAndThreeOrMoreDependents</th>\n",
       "    </tr>\n",
       "  </thead>\n",
       "  <tbody>\n",
       "    <tr>\n",
       "      <th>0</th>\n",
       "      <td>2019</td>\n",
       "      <td>AK</td>\n",
       "      <td>21989</td>\n",
       "      <td>HIOS</td>\n",
       "      <td>2018-10-16 03:20:23</td>\n",
       "      <td>93-0438772</td>\n",
       "      <td>2019-01-01</td>\n",
       "      <td>2019-03-31</td>\n",
       "      <td>21989AK0080001</td>\n",
       "      <td>Rating Area 1</td>\n",
       "      <td>...</td>\n",
       "      <td>Family Option</td>\n",
       "      <td>51.23</td>\n",
       "      <td>NaN</td>\n",
       "      <td>106.56</td>\n",
       "      <td>122.95</td>\n",
       "      <td>122.95</td>\n",
       "      <td>122.95</td>\n",
       "      <td>183.41</td>\n",
       "      <td>183.41</td>\n",
       "      <td>183.41</td>\n",
       "    </tr>\n",
       "    <tr>\n",
       "      <th>1</th>\n",
       "      <td>2019</td>\n",
       "      <td>AK</td>\n",
       "      <td>21989</td>\n",
       "      <td>HIOS</td>\n",
       "      <td>2018-10-16 03:20:23</td>\n",
       "      <td>93-0438772</td>\n",
       "      <td>2019-01-01</td>\n",
       "      <td>2019-03-31</td>\n",
       "      <td>21989AK0080001</td>\n",
       "      <td>Rating Area 2</td>\n",
       "      <td>...</td>\n",
       "      <td>Family Option</td>\n",
       "      <td>51.23</td>\n",
       "      <td>NaN</td>\n",
       "      <td>106.56</td>\n",
       "      <td>122.95</td>\n",
       "      <td>122.95</td>\n",
       "      <td>122.95</td>\n",
       "      <td>183.41</td>\n",
       "      <td>183.41</td>\n",
       "      <td>183.41</td>\n",
       "    </tr>\n",
       "    <tr>\n",
       "      <th>2</th>\n",
       "      <td>2019</td>\n",
       "      <td>AK</td>\n",
       "      <td>21989</td>\n",
       "      <td>HIOS</td>\n",
       "      <td>2018-10-16 03:20:23</td>\n",
       "      <td>93-0438772</td>\n",
       "      <td>2019-01-01</td>\n",
       "      <td>2019-03-31</td>\n",
       "      <td>21989AK0080001</td>\n",
       "      <td>Rating Area 3</td>\n",
       "      <td>...</td>\n",
       "      <td>Family Option</td>\n",
       "      <td>51.23</td>\n",
       "      <td>NaN</td>\n",
       "      <td>106.56</td>\n",
       "      <td>122.95</td>\n",
       "      <td>122.95</td>\n",
       "      <td>122.95</td>\n",
       "      <td>183.41</td>\n",
       "      <td>183.41</td>\n",
       "      <td>183.41</td>\n",
       "    </tr>\n",
       "    <tr>\n",
       "      <th>3</th>\n",
       "      <td>2019</td>\n",
       "      <td>AK</td>\n",
       "      <td>21989</td>\n",
       "      <td>HIOS</td>\n",
       "      <td>2018-10-16 03:20:23</td>\n",
       "      <td>93-0438772</td>\n",
       "      <td>2019-01-01</td>\n",
       "      <td>2019-03-31</td>\n",
       "      <td>21989AK0080002</td>\n",
       "      <td>Rating Area 1</td>\n",
       "      <td>...</td>\n",
       "      <td>Family Option</td>\n",
       "      <td>59.24</td>\n",
       "      <td>NaN</td>\n",
       "      <td>123.22</td>\n",
       "      <td>142.18</td>\n",
       "      <td>142.18</td>\n",
       "      <td>142.18</td>\n",
       "      <td>212.08</td>\n",
       "      <td>212.08</td>\n",
       "      <td>212.08</td>\n",
       "    </tr>\n",
       "    <tr>\n",
       "      <th>4</th>\n",
       "      <td>2019</td>\n",
       "      <td>AK</td>\n",
       "      <td>21989</td>\n",
       "      <td>HIOS</td>\n",
       "      <td>2018-10-16 03:20:23</td>\n",
       "      <td>93-0438772</td>\n",
       "      <td>2019-01-01</td>\n",
       "      <td>2019-03-31</td>\n",
       "      <td>21989AK0080002</td>\n",
       "      <td>Rating Area 2</td>\n",
       "      <td>...</td>\n",
       "      <td>Family Option</td>\n",
       "      <td>59.24</td>\n",
       "      <td>NaN</td>\n",
       "      <td>123.22</td>\n",
       "      <td>142.18</td>\n",
       "      <td>142.18</td>\n",
       "      <td>142.18</td>\n",
       "      <td>212.08</td>\n",
       "      <td>212.08</td>\n",
       "      <td>212.08</td>\n",
       "    </tr>\n",
       "  </tbody>\n",
       "</table>\n",
       "<p>5 rows × 21 columns</p>\n",
       "</div>"
      ],
      "text/plain": [
       "   BusinessYear StateCode  IssuerId SourceName           ImportDate  \\\n",
       "0          2019        AK     21989       HIOS  2018-10-16 03:20:23   \n",
       "1          2019        AK     21989       HIOS  2018-10-16 03:20:23   \n",
       "2          2019        AK     21989       HIOS  2018-10-16 03:20:23   \n",
       "3          2019        AK     21989       HIOS  2018-10-16 03:20:23   \n",
       "4          2019        AK     21989       HIOS  2018-10-16 03:20:23   \n",
       "\n",
       "   FederalTIN RateEffectiveDate RateExpirationDate          PlanId  \\\n",
       "0  93-0438772        2019-01-01         2019-03-31  21989AK0080001   \n",
       "1  93-0438772        2019-01-01         2019-03-31  21989AK0080001   \n",
       "2  93-0438772        2019-01-01         2019-03-31  21989AK0080001   \n",
       "3  93-0438772        2019-01-01         2019-03-31  21989AK0080002   \n",
       "4  93-0438772        2019-01-01         2019-03-31  21989AK0080002   \n",
       "\n",
       "    RatingAreaId               ...                          Age  \\\n",
       "0  Rating Area 1               ...                Family Option   \n",
       "1  Rating Area 2               ...                Family Option   \n",
       "2  Rating Area 3               ...                Family Option   \n",
       "3  Rating Area 1               ...                Family Option   \n",
       "4  Rating Area 2               ...                Family Option   \n",
       "\n",
       "  IndividualRate  IndividualTobaccoRate  Couple  \\\n",
       "0          51.23                    NaN  106.56   \n",
       "1          51.23                    NaN  106.56   \n",
       "2          51.23                    NaN  106.56   \n",
       "3          59.24                    NaN  123.22   \n",
       "4          59.24                    NaN  123.22   \n",
       "\n",
       "   PrimarySubscriberAndOneDependent  PrimarySubscriberAndTwoDependents  \\\n",
       "0                            122.95                             122.95   \n",
       "1                            122.95                             122.95   \n",
       "2                            122.95                             122.95   \n",
       "3                            142.18                             142.18   \n",
       "4                            142.18                             142.18   \n",
       "\n",
       "   PrimarySubscriberAndThreeOrMoreDependents  CoupleAndOneDependent  \\\n",
       "0                                     122.95                 183.41   \n",
       "1                                     122.95                 183.41   \n",
       "2                                     122.95                 183.41   \n",
       "3                                     142.18                 212.08   \n",
       "4                                     142.18                 212.08   \n",
       "\n",
       "   CoupleAndTwoDependents  CoupleAndThreeOrMoreDependents  \n",
       "0                  183.41                          183.41  \n",
       "1                  183.41                          183.41  \n",
       "2                  183.41                          183.41  \n",
       "3                  212.08                          212.08  \n",
       "4                  212.08                          212.08  \n",
       "\n",
       "[5 rows x 21 columns]"
      ]
     },
     "execution_count": 4,
     "metadata": {},
     "output_type": "execute_result"
    }
   ],
   "source": [
    "rate_df.head()"
   ]
  },
  {
   "cell_type": "markdown",
   "metadata": {},
   "source": [
    "# 2 EDA"
   ]
  },
  {
   "cell_type": "code",
   "execution_count": 25,
   "metadata": {},
   "outputs": [
    {
     "data": {
      "image/png": "[encoded data removed]",
      "text/plain": [
       "<Figure size 1080x432 with 2 Axes>"
      ]
     },
     "metadata": {
      "needs_background": "light"
     },
     "output_type": "display_data"
    }
   ],
   "source": [
    "df = rate_df[rate_df.IndividualRate < 1600]\n",
    "plt.subplots(nrows = 1, ncols = 2, figsize = (15, 6))\n",
    "\n",
    "plt.subplot(121)\n",
    "df.IndividualRate.hist(bins = 300)\n",
    "plt.xlim([0,1600])\n",
    "plt.ylabel('Frequency/Count')\n",
    "plt.xlabel('Individual Rate')\n",
    "\n",
    "plt.subplot(122) # zoom in on area of interest\n",
    "df.IndividualRate.hist(bins = 300)\n",
    "plt.ylim([0,15000])\n",
    "plt.xlim([0,1600])\n",
    "plt.ylabel('Frequency/Count')\n",
    "plt.xlabel('Individual Rate')\n",
    "plt.show()"
   ]
  },
  {
   "cell_type": "markdown",
   "metadata": {},
   "source": [
    "Immediateliy we see 3 things happening with our spread of Individual Rates. There's of course a strong concentration between 0 and 100, then there's a left skewed distribution spread around 400, and then there's a strange clump just above 1000. We see this more clearly on the right plot where I've zoomed in."
   ]
  },
  {
   "cell_type": "code",
   "execution_count": 26,
   "metadata": {},
   "outputs": [
    {
     "data": {
      "text/plain": [
       "Index(['BusinessYear', 'StateCode', 'IssuerId', 'SourceName', 'ImportDate',\n",
       "       'FederalTIN', 'RateEffectiveDate', 'RateExpirationDate', 'PlanId',\n",
       "       'RatingAreaId', 'Tobacco', 'Age', 'IndividualRate',\n",
       "       'IndividualTobaccoRate', 'Couple', 'PrimarySubscriberAndOneDependent',\n",
       "       'PrimarySubscriberAndTwoDependents',\n",
       "       'PrimarySubscriberAndThreeOrMoreDependents', 'CoupleAndOneDependent',\n",
       "       'CoupleAndTwoDependents', 'CoupleAndThreeOrMoreDependents'],\n",
       "      dtype='object')"
      ]
     },
     "execution_count": 26,
     "metadata": {},
     "output_type": "execute_result"
    }
   ],
   "source": [
    "rate_df.columns"
   ]
  }
 ],
 "metadata": {
  "kernelspec": {
   "display_name": "Python 3",
   "language": "python",
   "name": "python3"
  },
  "language_info": {
   "codemirror_mode": {
    "name": "ipython",
    "version": 3
   },
   "file_extension": ".py",
   "mimetype": "text/x-python",
   "name": "python",
   "nbconvert_exporter": "python",
   "pygments_lexer": "ipython3",
   "version": "3.7.1"
  }
 },
 "nbformat": 4,
 "nbformat_minor": 2
}
